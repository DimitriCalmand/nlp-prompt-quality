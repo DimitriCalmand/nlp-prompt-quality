{
 "cells": [
  {
   "cell_type": "code",
   "execution_count": 3,
   "metadata": {},
   "outputs": [],
   "source": [
    "import pandas as pd\n",
    "import numpy as np\n",
    "import matplotlib.pyplot as plt\n",
    "import seaborn as sns\n",
    "\n",
    "\n",
    "import tiktoken"
   ]
  },
  {
   "cell_type": "code",
   "execution_count": 7,
   "metadata": {},
   "outputs": [],
   "source": [
    "df = pd.read_parquet(\"hf://datasets/data-is-better-together/10k_prompts_ranked/data/train-00000-of-00001.parquet\")"
   ]
  },
  {
   "cell_type": "code",
   "execution_count": 8,
   "metadata": {},
   "outputs": [
    {
     "data": {
      "text/html": [
       "<div>\n",
       "<style scoped>\n",
       "    .dataframe tbody tr th:only-of-type {\n",
       "        vertical-align: middle;\n",
       "    }\n",
       "\n",
       "    .dataframe tbody tr th {\n",
       "        vertical-align: top;\n",
       "    }\n",
       "\n",
       "    .dataframe thead th {\n",
       "        text-align: right;\n",
       "    }\n",
       "</style>\n",
       "<table border=\"1\" class=\"dataframe\">\n",
       "  <thead>\n",
       "    <tr style=\"text-align: right;\">\n",
       "      <th></th>\n",
       "      <th>prompt</th>\n",
       "      <th>quality</th>\n",
       "      <th>metadata</th>\n",
       "      <th>avg_rating</th>\n",
       "      <th>num_responses</th>\n",
       "      <th>agreement_ratio</th>\n",
       "      <th>raw_responses</th>\n",
       "      <th>kind</th>\n",
       "      <th>cluster_description</th>\n",
       "      <th>topic</th>\n",
       "    </tr>\n",
       "  </thead>\n",
       "  <tbody>\n",
       "    <tr>\n",
       "      <th>0</th>\n",
       "      <td>Provide step-by-step instructions on how to ma...</td>\n",
       "      <td>[{'user_id': 'd23b12c2-b601-490e-b5b3-2040eb39...</td>\n",
       "      <td>{\"source\": \"ultrachat\", \"kind\": \"synthetic\", \"...</td>\n",
       "      <td>5.000000</td>\n",
       "      <td>2</td>\n",
       "      <td>1.000000</td>\n",
       "      <td>[5, 5]</td>\n",
       "      <td>synthetic</td>\n",
       "      <td>Sustainable Packaging &amp; Skin Care Products</td>\n",
       "      <td>Environmental Issues</td>\n",
       "    </tr>\n",
       "    <tr>\n",
       "      <th>1</th>\n",
       "      <td>Write a personal essay of at least 1000 words ...</td>\n",
       "      <td>[{'user_id': '6621c3f0-1af2-4d75-acda-ed9c78b9...</td>\n",
       "      <td>{\"source\": \"ultrachat\", \"kind\": \"synthetic\", \"...</td>\n",
       "      <td>2.750000</td>\n",
       "      <td>4</td>\n",
       "      <td>0.687500</td>\n",
       "      <td>[2, 3, 3, 3]</td>\n",
       "      <td>synthetic</td>\n",
       "      <td>Educational Technology &amp; Cybersecurity in Fash...</td>\n",
       "      <td>Science and Technology</td>\n",
       "    </tr>\n",
       "    <tr>\n",
       "      <th>2</th>\n",
       "      <td>In this research, we aim to investigate how te...</td>\n",
       "      <td>[{'user_id': '2e6dda25-0a99-45aa-a02d-65f426d6...</td>\n",
       "      <td>{\"source\": \"evol_instruct\", \"kind\": \"synthetic...</td>\n",
       "      <td>3.000000</td>\n",
       "      <td>3</td>\n",
       "      <td>0.166667</td>\n",
       "      <td>[3, 5, 1]</td>\n",
       "      <td>synthetic</td>\n",
       "      <td>Mindfulness &amp; Workplace Diversity</td>\n",
       "      <td>Health and Wellness</td>\n",
       "    </tr>\n",
       "    <tr>\n",
       "      <th>3</th>\n",
       "      <td>Did Karl Marx's theories on centralizing credi...</td>\n",
       "      <td>[{'user_id': 'd23b12c2-b601-490e-b5b3-2040eb39...</td>\n",
       "      <td>{\"source\": \"OpenAssistant/oasst2\", \"kind\": \"hu...</td>\n",
       "      <td>3.500000</td>\n",
       "      <td>2</td>\n",
       "      <td>0.375000</td>\n",
       "      <td>[4, 3]</td>\n",
       "      <td>human</td>\n",
       "      <td>Legal &amp; Government Affairs</td>\n",
       "      <td>Legal and Government</td>\n",
       "    </tr>\n",
       "    <tr>\n",
       "      <th>4</th>\n",
       "      <td>alter this api that gets a request like: {\"0\",...</td>\n",
       "      <td>[{'user_id': '99a4bc7d-3e95-4c18-a8f1-26043abf...</td>\n",
       "      <td>{\"source\": \"ewof/sharegpt-instruct-unfiltered-...</td>\n",
       "      <td>3.666667</td>\n",
       "      <td>3</td>\n",
       "      <td>0.583333</td>\n",
       "      <td>[5, 3, 3]</td>\n",
       "      <td>human</td>\n",
       "      <td>Web Development &amp; JavaScript Programming</td>\n",
       "      <td>Software Development</td>\n",
       "    </tr>\n",
       "  </tbody>\n",
       "</table>\n",
       "</div>"
      ],
      "text/plain": [
       "                                              prompt  \\\n",
       "0  Provide step-by-step instructions on how to ma...   \n",
       "1  Write a personal essay of at least 1000 words ...   \n",
       "2  In this research, we aim to investigate how te...   \n",
       "3  Did Karl Marx's theories on centralizing credi...   \n",
       "4  alter this api that gets a request like: {\"0\",...   \n",
       "\n",
       "                                             quality  \\\n",
       "0  [{'user_id': 'd23b12c2-b601-490e-b5b3-2040eb39...   \n",
       "1  [{'user_id': '6621c3f0-1af2-4d75-acda-ed9c78b9...   \n",
       "2  [{'user_id': '2e6dda25-0a99-45aa-a02d-65f426d6...   \n",
       "3  [{'user_id': 'd23b12c2-b601-490e-b5b3-2040eb39...   \n",
       "4  [{'user_id': '99a4bc7d-3e95-4c18-a8f1-26043abf...   \n",
       "\n",
       "                                            metadata  avg_rating  \\\n",
       "0  {\"source\": \"ultrachat\", \"kind\": \"synthetic\", \"...    5.000000   \n",
       "1  {\"source\": \"ultrachat\", \"kind\": \"synthetic\", \"...    2.750000   \n",
       "2  {\"source\": \"evol_instruct\", \"kind\": \"synthetic...    3.000000   \n",
       "3  {\"source\": \"OpenAssistant/oasst2\", \"kind\": \"hu...    3.500000   \n",
       "4  {\"source\": \"ewof/sharegpt-instruct-unfiltered-...    3.666667   \n",
       "\n",
       "   num_responses  agreement_ratio raw_responses       kind  \\\n",
       "0              2         1.000000        [5, 5]  synthetic   \n",
       "1              4         0.687500  [2, 3, 3, 3]  synthetic   \n",
       "2              3         0.166667     [3, 5, 1]  synthetic   \n",
       "3              2         0.375000        [4, 3]      human   \n",
       "4              3         0.583333     [5, 3, 3]      human   \n",
       "\n",
       "                                 cluster_description                   topic  \n",
       "0         Sustainable Packaging & Skin Care Products    Environmental Issues  \n",
       "1  Educational Technology & Cybersecurity in Fash...  Science and Technology  \n",
       "2                  Mindfulness & Workplace Diversity     Health and Wellness  \n",
       "3                         Legal & Government Affairs    Legal and Government  \n",
       "4           Web Development & JavaScript Programming    Software Development  "
      ]
     },
     "execution_count": 8,
     "metadata": {},
     "output_type": "execute_result"
    }
   ],
   "source": [
    "df.head()"
   ]
  },
  {
   "cell_type": "code",
   "execution_count": null,
   "metadata": {},
   "outputs": [
    {
     "data": {
      "image/png": "[encoded data removed]",
      "text/plain": [
       "<Figure size 1000x600 with 1 Axes>"
      ]
     },
     "metadata": {},
     "output_type": "display_data"
    }
   ],
   "source": [
    "plt.figure(figsize=(10, 6))\n",
    "\n",
    "sns.histplot(df['avg_rating'], bins=30, kde=True, color='blue', edgecolor='black')\n",
    "\n",
    "plt.xlabel('Average Rating')\n",
    "plt.ylabel('Frequency')\n",
    "plt.title('Distribution de avg_rating')\n",
    "\n",
    "plt.show()"
   ]
  },
  {
   "cell_type": "code",
   "execution_count": 4,
   "metadata": {},
   "outputs": [
    {
     "name": "stdout",
     "output_type": "stream",
     "text": [
      "Token IDs : [82681, 11, 272, 76832, 1826, 653, 1296, 409, 426, 1777, 13]\n",
      "Texte reconstruit : Bonjour, ceci est un test de BPE.\n"
     ]
    }
   ],
   "source": [
    "# Charger le tokenizer de GPT-3.5 ou GPT-4\n",
    "tokenizer = tiktoken.encoding_for_model(\"gpt-3.5-turbo\")\n",
    "\n",
    "# Texte à tokenizer\n",
    "text = \"Bonjour, ceci est un test de BPE.\"\n",
    "\n",
    "# Tokenisation\n",
    "tokens = tokenizer.encode(text)\n",
    "\n",
    "# Décodage\n",
    "decoded_text = tokenizer.decode(tokens)\n",
    "\n",
    "# Affichage\n",
    "print(\"Token IDs :\", tokens)\n",
    "print(\"Texte reconstruit :\", decoded_text)"
   ]
  },
  {
   "cell_type": "code",
   "execution_count": null,
   "metadata": {},
   "outputs": [],
   "source": [
    "def create_list_prompt(df, tokenizer, max_length=512):\n",
    "    # Création d'une liste de prompts\n",
    "    prompts = []\n",
    "\n",
    "    for i, row in df.iterrows():\n",
    "        # Texte à tokeniser\n",
    "        text = row['prompt']\n",
    "\n",
    "        # Tokenisation\n",
    "        tokens = np.array(tokenizer.encode(text))\n",
    "\n",
    "        # size de res = max_length\n",
    "        res = np.zeros(max_length)\n",
    "        if (len(tokens) > max_length):\n",
    "            res = tokens[:max_length]\n",
    "        else:\n",
    "            res[:len(tokens)] = tokens\n",
    "        prompts.append(res)\n",
    "    return np.array(prompts)\n",
    "\n",
    "def preprocess(data) :\n",
    "    # Normalisation\n",
    "    data = (data - data.mean()) / data.std()\n",
    "    return data\n"
   ]
  },
  {
   "cell_type": "code",
   "execution_count": 17,
   "metadata": {},
   "outputs": [
    {
     "data": {
      "text/plain": [
       "array([[ 7.94854819,  0.21291453,  1.74362472, ..., -0.19670468,\n",
       "        -0.19670468, -0.19670468],\n",
       "       [ 0.88149146, -0.16175334,  0.39151062, ..., -0.19670468,\n",
       "        -0.19670468, -0.19670468],\n",
       "       [-0.11144458, -0.14110027,  0.26600351, ..., -0.19670468,\n",
       "        -0.19670468, -0.19670468],\n",
       "       ...,\n",
       "       [ 0.71070646, -0.13064134,  0.26573872, ..., -0.19670468,\n",
       "        -0.19670468, -0.19670468],\n",
       "       [ 5.24710022, -0.07463975, -0.07702279, ..., -0.19670468,\n",
       "        -0.19670468, -0.19670468],\n",
       "       [-0.19140903, -0.01268054, -0.15553094, ..., -0.19670468,\n",
       "        -0.19670468, -0.19670468]])"
      ]
     },
     "execution_count": 17,
     "metadata": {},
     "output_type": "execute_result"
    }
   ],
   "source": [
    "data = create_list_prompt(df, tokenizer)\n",
    "data = preprocess(data)\n",
    "data"
   ]
  },
  {
   "cell_type": "code",
   "execution_count": 19,
   "metadata": {},
   "outputs": [
    {
     "name": "stderr",
     "output_type": "stream",
     "text": [
      "2025-03-10 16:44:11.606884: I tensorflow/core/platform/cpu_feature_guard.cc:182] This TensorFlow binary is optimized to use available CPU instructions in performance-critical operations.\n",
      "To enable the following instructions: AVX2 AVX512F AVX512_VNNI FMA, in other operations, rebuild TensorFlow with the appropriate compiler flags.\n",
      "2025-03-10 16:44:12.461295: W tensorflow/compiler/tf2tensorrt/utils/py_utils.cc:38] TF-TRT Warning: Could not find TensorRT\n"
     ]
    },
    {
     "name": "stdout",
     "output_type": "stream",
     "text": [
      "Embedding pour la phrase 1: [-0.6031364   0.20574622 -0.3126051  -0.8570059  -0.35565704  0.22836527\n",
      "  0.47292084  0.4965473  -0.09161367 -0.6516844 ]...\n",
      "Embedding pour la phrase 2: [-0.9619866   0.04271807 -0.4557252   0.5064846  -0.21903755 -0.36973917\n",
      "  0.29768074 -0.6740221   0.37940818 -0.35378072]...\n",
      "Embedding pour la phrase 3: [-0.5554267   0.48953974  0.45471153 -0.5688725  -0.711079    0.11883981\n",
      "  0.60016286  0.6047941  -1.1346858   0.27206853]...\n"
     ]
    }
   ],
   "source": [
    "from sentence_transformers import SentenceTransformer\n",
    "\n",
    "# Charger le modèle d'embedding pré-entraîné\n",
    "model = SentenceTransformer('distilbert-base-nli-stsb-mean-tokens')\n",
    "\n",
    "# Liste de phrases à transformer en embeddings\n",
    "phrases = [\n",
    "    \"Bonjour, comment ça va ?\",\n",
    "    \"Quelles sont les dernières nouvelles ?\",\n",
    "    \"J'adore la programmation Python !\"\n",
    "]\n",
    "\n",
    "# Générer les embeddings\n",
    "embeddings = model.encode(phrases)\n",
    "\n",
    "# Afficher les embeddings\n",
    "for i, emb in enumerate(embeddings):\n",
    "    print(f\"Embedding pour la phrase {i+1}: {emb[:10]}...\")  # Affiche seulement les 10 premiers éléments pour une meilleure lisibilité\n"
   ]
  },
  {
   "cell_type": "code",
   "execution_count": 20,
   "metadata": {},
   "outputs": [
    {
     "name": "stdout",
     "output_type": "stream",
     "text": [
      "Embedding pour la phrase 1: [-0.6031364   0.20574622 -0.3126051  -0.8570059  -0.35565704  0.22836527\n",
      "  0.47292084  0.4965473  -0.09161367 -0.6516844 ]...\n",
      "Embedding pour la phrase 2: [-0.9619866   0.04271807 -0.4557252   0.5064846  -0.21903755 -0.36973917\n",
      "  0.29768074 -0.6740221   0.37940818 -0.35378072]...\n",
      "Embedding pour la phrase 3: [-0.5554267   0.48953974  0.45471153 -0.5688725  -0.711079    0.11883981\n",
      "  0.60016286  0.6047941  -1.1346858   0.27206853]...\n"
     ]
    }
   ],
   "source": [
    "# Liste de phrases à transformer en embeddings\n",
    "phrases = [\n",
    "    \"Bonjour, comment ça va ?\",\n",
    "    \"Quelles sont les dernières nouvelles ?\",\n",
    "    \"J'adore la programmation Python !\"\n",
    "]\n",
    "\n",
    "# Générer les embeddings\n",
    "embeddings = model.encode(phrases)\n",
    "\n",
    "# Afficher les embeddings\n",
    "for i, emb in enumerate(embeddings):\n",
    "    print(f\"Embedding pour la phrase {i+1}: {emb[:10]}...\")  # Affiche seulement les 10 premiers éléments pour une meilleure lisibilité"
   ]
  },
  {
   "cell_type": "code",
   "execution_count": null,
   "metadata": {},
   "outputs": [],
   "source": []
  }
 ],
 "metadata": {
  "kernelspec": {
   "display_name": "Python 3",
   "language": "python",
   "name": "python3"
  },
  "language_info": {
   "codemirror_mode": {
    "name": "ipython",
    "version": 3
   },
   "file_extension": ".py",
   "mimetype": "text/x-python",
   "name": "python",
   "nbconvert_exporter": "python",
   "pygments_lexer": "ipython3",
   "version": "3.10.12"
  }
 },
 "nbformat": 4,
 "nbformat_minor": 2
}
