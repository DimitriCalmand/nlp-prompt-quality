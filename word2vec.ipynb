{
 "cells": [
  {
   "cell_type": "code",
   "execution_count": 1,
   "metadata": {},
   "outputs": [],
   "source": [
    "import pandas as pd\n",
    "import numpy as np"
   ]
  },
  {
   "cell_type": "code",
   "execution_count": 2,
   "metadata": {},
   "outputs": [
    {
     "name": "stderr",
     "output_type": "stream",
     "text": [
      "/home/dimitri/.local/lib/python3.10/site-packages/tqdm/auto.py:21: TqdmWarning: IProgress not found. Please update jupyter and ipywidgets. See https://ipywidgets.readthedocs.io/en/stable/user_install.html\n",
      "  from .autonotebook import tqdm as notebook_tqdm\n"
     ]
    }
   ],
   "source": [
    "df = pd.read_parquet(\"hf://datasets/data-is-better-together/10k_prompts_ranked/data/train-00000-of-00001.parquet\")"
   ]
  },
  {
   "cell_type": "code",
   "execution_count": 3,
   "metadata": {},
   "outputs": [],
   "source": [
    "data = df.prompt"
   ]
  },
  {
   "cell_type": "code",
   "execution_count": 4,
   "metadata": {},
   "outputs": [
    {
     "name": "stderr",
     "output_type": "stream",
     "text": [
      "[nltk_data] Downloading package punkt to /home/dimitri/nltk_data...\n",
      "[nltk_data]   Package punkt is already up-to-date!\n"
     ]
    }
   ],
   "source": [
    "import nltk\n",
    "from nltk.tokenize import word_tokenize\n",
    "from gensim.models import Word2Vec\n",
    "\n",
    "nltk.download('punkt')\n",
    "\n",
    "data = df.prompt\n",
    "\n",
    "sentences = data.apply(lambda x: word_tokenize(x.lower())).tolist()\n",
    "\n",
    "model = Word2Vec(sentences=sentences, vector_size=100, window=5, min_count=1, workers=4)\n"
   ]
  },
  {
   "cell_type": "code",
   "execution_count": 8,
   "metadata": {},
   "outputs": [],
   "source": [
    "test_data  = pd.Series([\"What\"])\n",
    "\n",
    "# Tokenisation de chaque phrase en minuscules\n",
    "test_sentences = test_data.apply(lambda x: word_tokenize(x.lower())).tolist()\n",
    "\n",
    "# Fonction pour calculer un vecteur moyen pour une phrase\n",
    "def sentence_vector(sentence, model):\n",
    "    vectors = [model.wv[word] for word in sentence if word in model.wv]\n",
    "    if vectors:\n",
    "        return np.mean(vectors, axis=0)\n",
    "    return None\n",
    "\n",
    "# Calculer le vecteur moyen pour chaque phrase du dataset Test\n",
    "test_vectors = [sentence_vector(sentence, model) for sentence in test_sentences]"
   ]
  },
  {
   "cell_type": "code",
   "execution_count": 7,
   "metadata": {},
   "outputs": [
    {
     "name": "stdout",
     "output_type": "stream",
     "text": [
      "Mots les plus similaires au vecteur de la phrase Test : [('what', 1.0000001192092896), ('why', 0.8366110920906067), ('confluence', 0.7470139861106873), ('important', 0.7399217486381531), ('where', 0.7372153997421265), ('how', 0.7268548607826233), ('here', 0.719048023223877), ('benchmarked', 0.6970731616020203), ('perceive', 0.6880468726158142), ('so…my', 0.6844384670257568)]\n"
     ]
    }
   ],
   "source": [
    "def decode_embedding(embedding, model, topn=10):\n",
    "    return model.wv.similar_by_vector(embedding, topn=topn)\n",
    "\n",
    "# Décoder le vecteur moyen de la première phrase du dataset Test\n",
    "decoded_words = decode_embedding(test_vectors[0], model)\n",
    "\n",
    "# Affichage des mots les plus similaires\n",
    "print(\"Mots les plus similaires au vecteur de la phrase Test :\", decoded_words)"
   ]
  },
  {
   "cell_type": "code",
   "execution_count": 22,
   "metadata": {},
   "outputs": [],
   "source": [
    "def synonyms(word, model, topn=10):\n",
    "    \"\"\"\n",
    "    Find synonyms for a given word using the Word2Vec model.\n",
    "    \"\"\"\n",
    "    list_syno = decode_embedding(model.wv[word], model, topn)\n",
    "    return list_syno[1][0]\n",
    "def sentence_synonyms(sentence, model, topn=10):\n",
    "    \"\"\"\n",
    "    Find synonyms for each word in a sentence using the Word2Vec model.\n",
    "    \"\"\"\n",
    "    res = []\n",
    "    sentence = sentence.lower().split()\n",
    "    for word in sentence:\n",
    "        if word in model.wv:\n",
    "            res.append(synonyms(word, model, topn))\n",
    "        else:\n",
    "            res.append(word)\n",
    "    return res"
   ]
  },
  {
   "cell_type": "code",
   "execution_count": 26,
   "metadata": {},
   "outputs": [
    {
     "data": {
      "text/plain": [
       "['what', 'ago', 'were', 'we']"
      ]
     },
     "execution_count": 26,
     "metadata": {},
     "output_type": "execute_result"
    }
   ],
   "source": [
    "sentence_synonyms(\"how old are you\", model, 10)"
   ]
  },
  {
   "cell_type": "code",
   "execution_count": null,
   "metadata": {},
   "outputs": [],
   "source": []
  }
 ],
 "metadata": {
  "kernelspec": {
   "display_name": "Python 3",
   "language": "python",
   "name": "python3"
  },
  "language_info": {
   "codemirror_mode": {
    "name": "ipython",
    "version": 3
   },
   "file_extension": ".py",
   "mimetype": "text/x-python",
   "name": "python",
   "nbconvert_exporter": "python",
   "pygments_lexer": "ipython3",
   "version": "3.10.12"
  }
 },
 "nbformat": 4,
 "nbformat_minor": 2
}
