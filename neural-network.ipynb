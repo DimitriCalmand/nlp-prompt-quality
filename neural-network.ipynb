{
 "cells": [
  {
   "cell_type": "code",
   "execution_count": 1,
   "metadata": {},
   "outputs": [],
   "source": [
    "import pandas as pd\n",
    "import numpy as np"
   ]
  },
  {
   "cell_type": "code",
   "execution_count": 13,
   "metadata": {},
   "outputs": [],
   "source": [
    "PADDINGS = 10"
   ]
  },
  {
   "cell_type": "code",
   "execution_count": 3,
   "metadata": {},
   "outputs": [],
   "source": [
    "splits = {'train': 'train.csv', 'validation': 'dev.csv', 'test': 'test.csv'}\n",
    "df = pd.read_csv(\"hf://datasets/ibm-research/argument_quality_ranking_30k/\" + splits[\"train\"])"
   ]
  },
  {
   "cell_type": "code",
   "execution_count": 7,
   "metadata": {},
   "outputs": [],
   "source": [
    "argument = list(df.argument)\n",
    "topic = list(df.topic)\n",
    "note = list(df.WA)"
   ]
  },
  {
   "cell_type": "code",
   "execution_count": 5,
   "metadata": {},
   "outputs": [],
   "source": [
    "## train test split\n",
    "from sklearn.model_selection import train_test_split"
   ]
  },
  {
   "cell_type": "code",
   "execution_count": 17,
   "metadata": {},
   "outputs": [
    {
     "name": "stderr",
     "output_type": "stream",
     "text": [
      "[nltk_data] Downloading package punkt to /home/dimitri/nltk_data...\n",
      "[nltk_data]   Package punkt is already up-to-date!\n"
     ]
    },
    {
     "name": "stdout",
     "output_type": "stream",
     "text": [
      "Exemple de vocabulaire : ['<pad>', 'should', 'we', 'the', 'to', '.', 'and', 'of', 'a', 'be']\n"
     ]
    }
   ],
   "source": [
    "import nltk\n",
    "from nltk.tokenize import word_tokenize\n",
    "from gensim.models import Word2Vec\n",
    "\n",
    "nltk.download('punkt')\n",
    "\n",
    "data = []\n",
    "for i in range(len(argument)):\n",
    "    arg_token = word_tokenize(argument[i].lower())\n",
    "    arg_topic = word_tokenize(topic[i].lower())\n",
    "    if len(arg_topic) < PADDINGS:\n",
    "        arg_topic += ['<pad>'] * (PADDINGS - len(arg_topic))\n",
    "\n",
    "    data.append(arg_topic + arg_token)\n",
    "\n",
    "model_embedding = Word2Vec(sentences=data, vector_size=100, window=5, min_count=1, workers=4)\n",
    "\n",
    "print(\"Exemple de vocabulaire :\", list(model_embedding.wv.key_to_index.keys())[:10])"
   ]
  },
  {
   "cell_type": "code",
   "execution_count": null,
   "metadata": {},
   "outputs": [],
   "source": [
    "import numpy as np\n",
    "\n",
    "corpus = [\n",
    "    \"Deep learning is powerful\",\n",
    "    \"Neural networks are used for computer vision\",\n",
    "    \"Word2Vec learns word representations\"\n",
    "]\n",
    "\n",
    "def sentence_to_vec(sentence, model):\n",
    "    \n",
    "    \"\"\"Convertit une phrase en un vecteur en moyennant les vecteurs Word2Vec des mots\"\"\"\n",
    "\n",
    "    vectors = [model.wv[word] for word in sentence if word in model.wv]\n",
    "    return np.mean(vectors, axis=0) if vectors else np.zeros(model.vector_size)\n"
   ]
  },
  {
   "cell_type": "code",
   "execution_count": 22,
   "metadata": {},
   "outputs": [],
   "source": [
    "X = np.array([sentence_to_vec(sent, model_embedding) for sent in data])"
   ]
  },
  {
   "cell_type": "code",
   "execution_count": 39,
   "metadata": {},
   "outputs": [],
   "source": [
    "# train test split\n",
    "X_train, X_test, y_train, y_test = train_test_split(X, np.array(note), test_size=0.2, random_state=42)"
   ]
  },
  {
   "cell_type": "code",
   "execution_count": 29,
   "metadata": {},
   "outputs": [],
   "source": [
    "import tensorflow as tf\n",
    "\n",
    "\n",
    "model = tf.keras.Sequential([\n",
    "    tf.keras.layers.Input(shape=(X.shape[1],)),\n",
    "    tf.keras.layers.Dense(128, activation='relu'),\n",
    "    tf.keras.layers.Dense(64, activation='relu'),\n",
    "    tf.keras.layers.Dense(1, activation='sigmoid')\n",
    "])\n",
    "model.compile(optimizer='adam', loss='binary_crossentropy', metrics=['accuracy'])\n"
   ]
  },
  {
   "cell_type": "code",
   "execution_count": 37,
   "metadata": {},
   "outputs": [
    {
     "data": {
      "text/plain": [
       "numpy.ndarray"
      ]
     },
     "execution_count": 37,
     "metadata": {},
     "output_type": "execute_result"
    }
   ],
   "source": [
    "type(X_train)"
   ]
  },
  {
   "cell_type": "code",
   "execution_count": 40,
   "metadata": {},
   "outputs": [
    {
     "name": "stdout",
     "output_type": "stream",
     "text": [
      "Epoch 1/10\n",
      "  1/525 [..............................] - ETA: 2s - loss: 0.5555 - accuracy: 0.1875"
     ]
    },
    {
     "name": "stdout",
     "output_type": "stream",
     "text": [
      "525/525 [==============================] - 1s 2ms/step - loss: 0.4976 - accuracy: 0.1955 - val_loss: 0.4972 - val_accuracy: 0.1979\n",
      "Epoch 2/10\n",
      "525/525 [==============================] - 1s 1ms/step - loss: 0.4972 - accuracy: 0.1954 - val_loss: 0.4967 - val_accuracy: 0.1979\n",
      "Epoch 3/10\n",
      "525/525 [==============================] - 1s 2ms/step - loss: 0.4962 - accuracy: 0.1955 - val_loss: 0.4964 - val_accuracy: 0.1979\n",
      "Epoch 4/10\n",
      "525/525 [==============================] - 1s 1ms/step - loss: 0.4955 - accuracy: 0.1955 - val_loss: 0.4957 - val_accuracy: 0.1979\n",
      "Epoch 5/10\n",
      "525/525 [==============================] - 1s 2ms/step - loss: 0.4951 - accuracy: 0.1954 - val_loss: 0.4962 - val_accuracy: 0.1979\n",
      "Epoch 6/10\n",
      "525/525 [==============================] - 1s 2ms/step - loss: 0.4943 - accuracy: 0.1954 - val_loss: 0.4970 - val_accuracy: 0.1979\n",
      "Epoch 7/10\n",
      "525/525 [==============================] - 1s 2ms/step - loss: 0.4936 - accuracy: 0.1955 - val_loss: 0.4958 - val_accuracy: 0.1979\n",
      "Epoch 8/10\n",
      "525/525 [==============================] - 1s 2ms/step - loss: 0.4929 - accuracy: 0.1955 - val_loss: 0.4951 - val_accuracy: 0.1979\n",
      "Epoch 9/10\n",
      "525/525 [==============================] - 1s 2ms/step - loss: 0.4928 - accuracy: 0.1955 - val_loss: 0.4964 - val_accuracy: 0.1979\n",
      "Epoch 10/10\n",
      "525/525 [==============================] - 1s 2ms/step - loss: 0.4923 - accuracy: 0.1955 - val_loss: 0.4949 - val_accuracy: 0.1979\n"
     ]
    },
    {
     "data": {
      "text/plain": [
       "<keras.callbacks.History at 0x773130cfe530>"
      ]
     },
     "execution_count": 40,
     "metadata": {},
     "output_type": "execute_result"
    }
   ],
   "source": [
    "model.fit(X_train, y_train, validation_data=(X_test, y_test), epochs=10, batch_size=32)"
   ]
  }
 ],
 "metadata": {
  "kernelspec": {
   "display_name": "Python 3",
   "language": "python",
   "name": "python3"
  },
  "language_info": {
   "codemirror_mode": {
    "name": "ipython",
    "version": 3
   },
   "file_extension": ".py",
   "mimetype": "text/x-python",
   "name": "python",
   "nbconvert_exporter": "python",
   "pygments_lexer": "ipython3",
   "version": "3.10.12"
  }
 },
 "nbformat": 4,
 "nbformat_minor": 2
}
