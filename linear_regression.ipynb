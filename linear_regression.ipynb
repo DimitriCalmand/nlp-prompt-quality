{
 "cells": [
  {
   "metadata": {},
   "cell_type": "markdown",
   "source": "# Linear Regression",
   "id": "ca4f1534dca07c7b"
  },
  {
   "metadata": {},
   "cell_type": "code",
   "outputs": [],
   "execution_count": null,
   "source": [
    "import pandas as pd\n",
    "\n",
    "from sklearn.feature_extraction.text import TfidfVectorizer\n",
    "from sentence_transformers import SentenceTransformer\n",
    "from sklearn.feature_extraction.text import CountVectorizer\n",
    "\n",
    "from sklearn.model_selection import train_test_split\n",
    "from sklearn.linear_model import LinearRegression\n",
    "from sklearn.metrics import accuracy_score, precision_score, recall_score, f1_score\n",
    "from sklearn.metrics import mean_squared_error, r2_score"
   ],
   "id": "2a5136e30462d274"
  },
  {
   "metadata": {},
   "cell_type": "markdown",
   "source": "## Data Preprocessing",
   "id": "3e9c9335f8f6ef94"
  },
  {
   "metadata": {},
   "cell_type": "code",
   "outputs": [],
   "execution_count": null,
   "source": [
    "df = pd.read_parquet(\"hf://datasets/data-is-better-together/10k_prompts_ranked/data/train-00000-of-00001.parquet\")\n",
    "\n",
    "#df = df[df[\"num_responses\"] > 1]\n",
    "df = df[df[\"agreement_ratio\"] > 0.4]\n",
    "\n",
    "y = df[\"avg_rating\"]\n",
    "X = df[\"prompt\"]"
   ],
   "id": "6c68cff7ba90375b"
  },
  {
   "metadata": {},
   "cell_type": "markdown",
   "source": [
    "## Tokenize Prompts\n",
    "- Bag of words\n",
    "- TF-IDF\n",
    "- Transformer-Based Sentence Embedding\n",
    "\n",
    "Choose the type of tokenizer you want\n"
   ],
   "id": "962359ab56bce96f"
  },
  {
   "metadata": {},
   "cell_type": "code",
   "outputs": [],
   "execution_count": null,
   "source": [
    "TOKENIZER_TYPE = 'BOW'  # Choose from 'BOW', 'TF-IDF', 'TRANSFORMER'\n",
    "\n",
    "# BAG OF WORDS\n",
    "if TOKENIZER_TYPE == 'BOW':\n",
    "    tokenizer = CountVectorizer()\n",
    "    X = tokenizer.fit_transform(X)\n",
    "\n",
    "# TF-IDF\n",
    "elif TOKENIZER_TYPE == 'TF-IDF':\n",
    "    tokenizer = TfidfVectorizer()\n",
    "    X = tokenizer.fit_transform(X)\n",
    "\n",
    "# TRANSFORMER-BASED SENTENCE EMBEDDING\n",
    "elif TOKENIZER_TYPE == 'TRANSFORMER':\n",
    "    tokenizer = SentenceTransformer(\"distilbert-base-nli-stsb-mean-tokens\")  # Lightweight and fast\n",
    "    X = tokenizer.encode(X.tolist())\n",
    "\n",
    "else:\n",
    "    raise ValueError(\"Invalid TOKENIZER_TYPE. Choose from 'BOW', 'TF-IDF', 'TRANSFORMER'\")"
   ],
   "id": "3c1ca54451c5c41b"
  },
  {
   "metadata": {},
   "cell_type": "markdown",
   "source": "## Train Model",
   "id": "121844956e081be1"
  },
  {
   "metadata": {},
   "cell_type": "code",
   "outputs": [],
   "execution_count": null,
   "source": [
    "# Split the data into training and test sets\n",
    "X_train, X_test, y_train, y_test = train_test_split(\n",
    "    X, y, test_size=0.2, random_state=123\n",
    ")\n",
    "\n",
    "\n",
    "# Train the model\n",
    "lr = LinearRegression()\n",
    "lr.fit(X_train, y_train)"
   ],
   "id": "d726f0efc5dfb284"
  },
  {
   "metadata": {},
   "cell_type": "markdown",
   "source": "## Evaluate Model",
   "id": "7a2c39297cfe6cc6"
  },
  {
   "metadata": {},
   "cell_type": "code",
   "outputs": [],
   "execution_count": null,
   "source": [
    "# Predict on the test set\n",
    "y_pred = lr.predict(X_test)\n",
    "\n",
    "# Calculate metrics\n",
    "mse = mean_squared_error(y_test, y_pred)\n",
    "r2 = r2_score(y_test, y_pred)\n",
    "\n",
    "print(f\"Mean Squared Error: {mse}\")\n",
    "print(f\"R^2 Score: {r2}\")\n"
   ],
   "id": "4b8d6f3fe0197b49"
  },
  {
   "metadata": {},
   "cell_type": "markdown",
   "source": [
    "## Make prediction\n",
    "\n",
    "- Change the prompt as you want to evaluate it"
   ],
   "id": "a17dd16f14053bca"
  },
  {
   "metadata": {},
   "cell_type": "code",
   "outputs": [],
   "execution_count": null,
   "source": [
    "PROMPT = \"\"\"In a markdown format, can you provide a recipe for black bean tacos?\n",
    "## Black Bean Tacos Recipe\n",
    "### Ingredients:\n",
    "- 1 can of black beans\n",
    "- 1 onion, diced\n",
    "- 1 red bell pepper, diced\n",
    "- 1 green bell pepper, diced\n",
    "- 1 jalapeno pepper, diced\n",
    "- 2 cloves garlic, minced\n",
    "- 1 tsp. ground cumin\n",
    "- 1 tsp. chili powder\n",
    "- Salt and pepper to taste\n",
    "- 8-10 tortillas\n",
    "- Optional toppings: shredded cheese, chopped cilantro, diced tomatoes, avocado, lime wedges\n",
    "### Directions:\n",
    "1. In a large skillet, heat some oil over medium heat. Add onions, bell peppers, and jalapeno pepper. Cook until tender.\n",
    "2. Add garlic, cumin, and chili powder. Cook for another minute.\n",
    "3. Add black beans and cook until heated through.\n",
    "4. Warm tortillas in the microwave or on a skillet.\n",
    "5. Fill tortillas with black bean mixture and desired toppings.\n",
    "6. Squeeze fresh lime juice over tacos before serving. Enjoy!\n",
    "Can you suggest any modifications to the recipe?\"\"\"\n",
    "\n",
    "if TOKENIZER_TYPE == 'BOW' or TOKENIZER_TYPE == 'TF-IDF':\n",
    "    prompt_vector = tokenizer.transform([PROMPT])\n",
    "elif TOKENIZER_TYPE == 'TRANSFORMER':\n",
    "    prompt_vector = tokenizer.encode([PROMPT])\n",
    "else:\n",
    "    raise ValueError(\"Invalid TOKENIZER_TYPE. Choose from 'BOW', 'TF-IDF', 'TRANSFORMER'\")\n",
    "\n",
    "print(f\"\\nPrompt: {PROMPT}\")\n",
    "prediction = lr.predict(prompt_vector)\n",
    "print(f\"Prediction: {prediction[0]}\")\n"
   ],
   "id": "20cae6907453f5ec"
  }
 ],
 "metadata": {},
 "nbformat": 5,
 "nbformat_minor": 9
}
