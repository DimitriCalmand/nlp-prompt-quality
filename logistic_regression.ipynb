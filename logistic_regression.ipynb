{
 "cells": [
  {
   "cell_type": "markdown",
   "id": "9c3049aa40c96d4f",
   "metadata": {},
   "source": [
    "# Logistic Regression"
   ]
  },
  {
   "cell_type": "code",
   "execution_count": 1,
   "id": "8fa8f345d972e160",
   "metadata": {
    "ExecuteTime": {
     "end_time": "2025-03-31T14:46:52.499346Z",
     "start_time": "2025-03-31T14:46:49.439981Z"
    }
   },
   "outputs": [
    {
     "name": "stderr",
     "output_type": "stream",
     "text": [
      "/home/dimitri/.local/lib/python3.10/site-packages/tqdm/auto.py:21: TqdmWarning: IProgress not found. Please update jupyter and ipywidgets. See https://ipywidgets.readthedocs.io/en/stable/user_install.html\n",
      "  from .autonotebook import tqdm as notebook_tqdm\n",
      "2025-04-30 16:52:31.691737: I tensorflow/core/platform/cpu_feature_guard.cc:182] This TensorFlow binary is optimized to use available CPU instructions in performance-critical operations.\n",
      "To enable the following instructions: AVX2 AVX512F AVX512_VNNI FMA, in other operations, rebuild TensorFlow with the appropriate compiler flags.\n",
      "2025-04-30 16:52:34.342678: W tensorflow/compiler/tf2tensorrt/utils/py_utils.cc:38] TF-TRT Warning: Could not find TensorRT\n"
     ]
    }
   ],
   "source": [
    "import pandas as pd\n",
    "\n",
    "from sklearn.feature_extraction.text import TfidfVectorizer\n",
    "from sentence_transformers import SentenceTransformer\n",
    "from sklearn.feature_extraction.text import CountVectorizer\n",
    "\n",
    "from sklearn.model_selection import train_test_split\n",
    "from sklearn.linear_model import LogisticRegression\n",
    "from sklearn.metrics import accuracy_score, precision_score, recall_score, f1_score"
   ]
  },
  {
   "cell_type": "markdown",
   "id": "17dcc2d268b712f1",
   "metadata": {},
   "source": [
    "## Data Preprocessing\n",
    "Choose what you want to evaluate:\n",
    "- `KIND`: predict if the prompt is human or AI generated\n",
    "- `GRADE`: predict the quality of the model"
   ]
  },
  {
   "cell_type": "code",
   "execution_count": 3,
   "id": "6d1e038fb1b525d8",
   "metadata": {
    "ExecuteTime": {
     "end_time": "2025-03-31T14:46:36.344212Z",
     "start_time": "2025-03-31T14:45:28.697938Z"
    }
   },
   "outputs": [],
   "source": [
    "LABEL_TYPE = 'KIND'  # Choose from 'KIND', 'GRADE'\n",
    "\n",
    "df = pd.read_parquet(\"hf://datasets/data-is-better-together/10k_prompts_ranked/data/train-00000-of-00001.parquet\")\n"
   ]
  },
  {
   "cell_type": "code",
   "execution_count": 5,
   "id": "a1b46144",
   "metadata": {},
   "outputs": [],
   "source": [
    "#df = df[df[\"num_responses\"] > 1]\n",
    "df = df[df[\"agreement_ratio\"] > 0.4]\n",
    "\n",
    "if LABEL_TYPE == 'KIND':\n",
    "    df[\"label_binary\"] = df[\"kind\"].apply(lambda x: 1 if x == \"human\" else 0)\n",
    "elif LABEL_TYPE == 'GRADE':\n",
    "    df[\"label_binary\"] = df[\"avg_rating\"].apply(lambda x: 1 if x >= 4 else 0)\n",
    "else:\n",
    "    raise ValueError(\"Invalid LABEL_TYPE. Choose from 'KIND', 'GRADE'\")\n",
    "\n",
    "X = df[\"prompt\"]\n",
    "y = df[\"label_binary\"]"
   ]
  },
  {
   "cell_type": "markdown",
   "id": "4fd80c9ca27db7e9",
   "metadata": {},
   "source": [
    "## Tokenize Prompts\n",
    "- Bag of words\n",
    "- TF-IDF\n",
    "- Transformer-Based Sentence Embedding\n",
    "\n",
    "Choose the type of tokenizer you want"
   ]
  },
  {
   "cell_type": "code",
   "execution_count": 6,
   "id": "5110375ecb55d7db",
   "metadata": {},
   "outputs": [],
   "source": [
    "TOKENIZER_TYPE = 'BOW'  # Choose from 'BOW', 'TF-IDF', 'TRANSFORMER'\n",
    "\n",
    "# BAG OF WORDS\n",
    "if TOKENIZER_TYPE == 'BOW':\n",
    "    tokenizer = CountVectorizer()\n",
    "    X = tokenizer.fit_transform(X)\n",
    "\n",
    "# TF-IDF\n",
    "elif TOKENIZER_TYPE == 'TF-IDF':\n",
    "    tokenizer = TfidfVectorizer()\n",
    "    X = tokenizer.fit_transform(X)\n",
    "\n",
    "# TRANSFORMER-BASED SENTENCE EMBEDDING\n",
    "elif TOKENIZER_TYPE == 'TRANSFORMER':\n",
    "    tokenizer = SentenceTransformer(\"distilbert-base-nli-stsb-mean-tokens\")  # Lightweight and fast\n",
    "    X = tokenizer.encode(X.tolist())\n",
    "\n",
    "else:\n",
    "    raise ValueError(\"Invalid TOKENIZER_TYPE. Choose from 'BOW', 'TF-IDF', 'TRANSFORMER'\")"
   ]
  },
  {
   "cell_type": "markdown",
   "id": "2b8f7eabe5150d7e",
   "metadata": {},
   "source": [
    "## Train Model"
   ]
  },
  {
   "cell_type": "code",
   "execution_count": 9,
   "id": "efbd60bc740a7ecb",
   "metadata": {},
   "outputs": [
    {
     "data": {
      "text/html": [
       "<style>#sk-container-id-2 {color: black;background-color: white;}#sk-container-id-2 pre{padding: 0;}#sk-container-id-2 div.sk-toggleable {background-color: white;}#sk-container-id-2 label.sk-toggleable__label {cursor: pointer;display: block;width: 100%;margin-bottom: 0;padding: 0.3em;box-sizing: border-box;text-align: center;}#sk-container-id-2 label.sk-toggleable__label-arrow:before {content: \"▸\";float: left;margin-right: 0.25em;color: #696969;}#sk-container-id-2 label.sk-toggleable__label-arrow:hover:before {color: black;}#sk-container-id-2 div.sk-estimator:hover label.sk-toggleable__label-arrow:before {color: black;}#sk-container-id-2 div.sk-toggleable__content {max-height: 0;max-width: 0;overflow: hidden;text-align: left;background-color: #f0f8ff;}#sk-container-id-2 div.sk-toggleable__content pre {margin: 0.2em;color: black;border-radius: 0.25em;background-color: #f0f8ff;}#sk-container-id-2 input.sk-toggleable__control:checked~div.sk-toggleable__content {max-height: 200px;max-width: 100%;overflow: auto;}#sk-container-id-2 input.sk-toggleable__control:checked~label.sk-toggleable__label-arrow:before {content: \"▾\";}#sk-container-id-2 div.sk-estimator input.sk-toggleable__control:checked~label.sk-toggleable__label {background-color: #d4ebff;}#sk-container-id-2 div.sk-label input.sk-toggleable__control:checked~label.sk-toggleable__label {background-color: #d4ebff;}#sk-container-id-2 input.sk-hidden--visually {border: 0;clip: rect(1px 1px 1px 1px);clip: rect(1px, 1px, 1px, 1px);height: 1px;margin: -1px;overflow: hidden;padding: 0;position: absolute;width: 1px;}#sk-container-id-2 div.sk-estimator {font-family: monospace;background-color: #f0f8ff;border: 1px dotted black;border-radius: 0.25em;box-sizing: border-box;margin-bottom: 0.5em;}#sk-container-id-2 div.sk-estimator:hover {background-color: #d4ebff;}#sk-container-id-2 div.sk-parallel-item::after {content: \"\";width: 100%;border-bottom: 1px solid gray;flex-grow: 1;}#sk-container-id-2 div.sk-label:hover label.sk-toggleable__label {background-color: #d4ebff;}#sk-container-id-2 div.sk-serial::before {content: \"\";position: absolute;border-left: 1px solid gray;box-sizing: border-box;top: 0;bottom: 0;left: 50%;z-index: 0;}#sk-container-id-2 div.sk-serial {display: flex;flex-direction: column;align-items: center;background-color: white;padding-right: 0.2em;padding-left: 0.2em;position: relative;}#sk-container-id-2 div.sk-item {position: relative;z-index: 1;}#sk-container-id-2 div.sk-parallel {display: flex;align-items: stretch;justify-content: center;background-color: white;position: relative;}#sk-container-id-2 div.sk-item::before, #sk-container-id-2 div.sk-parallel-item::before {content: \"\";position: absolute;border-left: 1px solid gray;box-sizing: border-box;top: 0;bottom: 0;left: 50%;z-index: -1;}#sk-container-id-2 div.sk-parallel-item {display: flex;flex-direction: column;z-index: 1;position: relative;background-color: white;}#sk-container-id-2 div.sk-parallel-item:first-child::after {align-self: flex-end;width: 50%;}#sk-container-id-2 div.sk-parallel-item:last-child::after {align-self: flex-start;width: 50%;}#sk-container-id-2 div.sk-parallel-item:only-child::after {width: 0;}#sk-container-id-2 div.sk-dashed-wrapped {border: 1px dashed gray;margin: 0 0.4em 0.5em 0.4em;box-sizing: border-box;padding-bottom: 0.4em;background-color: white;}#sk-container-id-2 div.sk-label label {font-family: monospace;font-weight: bold;display: inline-block;line-height: 1.2em;}#sk-container-id-2 div.sk-label-container {text-align: center;}#sk-container-id-2 div.sk-container {/* jupyter's `normalize.less` sets `[hidden] { display: none; }` but bootstrap.min.css set `[hidden] { display: none !important; }` so we also need the `!important` here to be able to override the default hidden behavior on the sphinx rendered scikit-learn.org. See: https://github.com/scikit-learn/scikit-learn/issues/21755 */display: inline-block !important;position: relative;}#sk-container-id-2 div.sk-text-repr-fallback {display: none;}</style><div id=\"sk-container-id-2\" class=\"sk-top-container\"><div class=\"sk-text-repr-fallback\"><pre>LogisticRegression(max_iter=500, random_state=8888)</pre><b>In a Jupyter environment, please rerun this cell to show the HTML representation or trust the notebook. <br />On GitHub, the HTML representation is unable to render, please try loading this page with nbviewer.org.</b></div><div class=\"sk-container\" hidden><div class=\"sk-item\"><div class=\"sk-estimator sk-toggleable\"><input class=\"sk-toggleable__control sk-hidden--visually\" id=\"sk-estimator-id-2\" type=\"checkbox\" checked><label for=\"sk-estimator-id-2\" class=\"sk-toggleable__label sk-toggleable__label-arrow\">LogisticRegression</label><div class=\"sk-toggleable__content\"><pre>LogisticRegression(max_iter=500, random_state=8888)</pre></div></div></div></div></div>"
      ],
      "text/plain": [
       "LogisticRegression(max_iter=500, random_state=8888)"
      ]
     },
     "execution_count": 9,
     "metadata": {},
     "output_type": "execute_result"
    }
   ],
   "source": [
    "# Split the data into training and test sets\n",
    "X_train, X_test, y_train, y_test = train_test_split(\n",
    "    X, y, test_size=0.2, random_state=123\n",
    ")\n",
    "\n",
    "# Define the model hyperparameters\n",
    "params = {\n",
    "    \"solver\": \"lbfgs\",\n",
    "    \"max_iter\": 500,\n",
    "    \"multi_class\": \"auto\",\n",
    "    \"random_state\": 8888,\n",
    "}\n",
    "\n",
    "# Train the model\n",
    "lr = LogisticRegression(**params)\n",
    "lr.fit(X_train, y_train)"
   ]
  },
  {
   "cell_type": "markdown",
   "id": "8100a2bd8991ed7d",
   "metadata": {},
   "source": [
    "## Evaluate Model"
   ]
  },
  {
   "cell_type": "code",
   "execution_count": 10,
   "id": "2edb08f444a3929d",
   "metadata": {},
   "outputs": [
    {
     "name": "stdout",
     "output_type": "stream",
     "text": [
      "Accuracy: 0.8422636965683323\n",
      "Precision: 0.8442012905625464\n",
      "Recall: 0.8422636965683323\n",
      "F1 Score: 0.8418065585085609\n"
     ]
    }
   ],
   "source": [
    "# Predict on the test set\n",
    "y_pred = lr.predict(X_test)\n",
    "\n",
    "# Calculate metrics\n",
    "accuracy = accuracy_score(y_test, y_pred)\n",
    "precision = precision_score(y_test, y_pred, average=\"weighted\")\n",
    "recall = recall_score(y_test, y_pred, average=\"weighted\")\n",
    "f1 = f1_score(y_test, y_pred, average=\"weighted\")\n",
    "\n",
    "print(f\"Accuracy: {accuracy}\")\n",
    "print(f\"Precision: {precision}\")\n",
    "print(f\"Recall: {recall}\")\n",
    "print(f\"F1 Score: {f1}\")"
   ]
  },
  {
   "cell_type": "markdown",
   "id": "516c1ac1f62c682",
   "metadata": {},
   "source": [
    "## Make prediction\n",
    "\n",
    "- Change the prompt as you want to evaluate it"
   ]
  },
  {
   "cell_type": "code",
   "execution_count": 11,
   "id": "b84d46d1e50874ad",
   "metadata": {},
   "outputs": [
    {
     "name": "stdout",
     "output_type": "stream",
     "text": [
      "\n",
      "Prompt: I love bananas, can you make a recipe out of it ?\n",
      "Prediction: 1\n"
     ]
    }
   ],
   "source": [
    "PROMPT = \"\"\"I love bananas, can you make a recipe out of it ?\"\"\"\n",
    "\n",
    "if TOKENIZER_TYPE == 'BOW' or TOKENIZER_TYPE == 'TF-IDF':\n",
    "    prompt_vector = tokenizer.transform([PROMPT])\n",
    "elif TOKENIZER_TYPE == 'TRANSFORMER':\n",
    "    prompt_vector = tokenizer.encode([PROMPT])\n",
    "else:\n",
    "    raise ValueError(\"Invalid TOKENIZER_TYPE. Choose from 'BOW', 'TF-IDF', 'TRANSFORMER'\")\n",
    "\n",
    "print(f\"\\nPrompt: {PROMPT}\")\n",
    "prediction = lr.predict(prompt_vector)\n",
    "print(f\"Prediction: {prediction[0]}\")"
   ]
  },
  {
   "cell_type": "code",
   "execution_count": null,
   "id": "4d471ebf",
   "metadata": {},
   "outputs": [],
   "source": []
  }
 ],
 "metadata": {
  "kernelspec": {
   "display_name": "Python 3",
   "language": "python",
   "name": "python3"
  },
  "language_info": {
   "codemirror_mode": {
    "name": "ipython",
    "version": 3
   },
   "file_extension": ".py",
   "mimetype": "text/x-python",
   "name": "python",
   "nbconvert_exporter": "python",
   "pygments_lexer": "ipython3",
   "version": "3.10.12"
  }
 },
 "nbformat": 5,
 "nbformat_minor": 9
}
