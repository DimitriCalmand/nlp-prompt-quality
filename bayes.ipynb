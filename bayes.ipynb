{
 "cells": [
  {
   "cell_type": "code",
   "execution_count": 3,
   "metadata": {},
   "outputs": [],
   "source": [
    "import pandas as pd\n",
    "from sklearn.model_selection import train_test_split\n",
    "from sklearn.naive_bayes import GaussianNB\n",
    "from sklearn.metrics import classification_report, accuracy_score, mean_squared_error\n",
    "from sentence_transformers import SentenceTransformer\n",
    "import numpy as np\n",
    "import joblib"
   ]
  },
  {
   "cell_type": "code",
   "execution_count": null,
   "metadata": {},
   "outputs": [
    {
     "name": "stderr",
     "output_type": "stream",
     "text": [
      "/home/dimitri/.local/lib/python3.10/site-packages/sklearn/base.py:318: UserWarning: Trying to unpickle estimator GaussianNB from version 1.5.2 when using version 1.2.2. This might lead to breaking code or invalid results. Use at your own risk. For more info please refer to:\n",
      "https://scikit-learn.org/stable/model_persistence.html#security-maintainability-limitations\n",
      "  warnings.warn(\n"
     ]
    },
    {
     "name": "stdout",
     "output_type": "stream",
     "text": [
      "Prompt : Banana\n",
      "Classe prédite : 3\n",
      "-----\n",
      "Prompt : 2+2 = ? \n",
      "Classe prédite : 2\n",
      "-----\n",
      "Prompt : Make me a simple code in Python that prints 'Hello, World!'\n",
      "Classe prédite : 2\n",
      "-----\n",
      "Prompt : Provide step-by-step instructions on how to make a safe and effective homemade all-purpose cleaner from uncommon household ingredients. The guide should not include measurements, tips for storing the cleaner, and additional variations or scents that can be added. It should be written in clear language, with useful visuals or photographs to aid in the process.\n",
      "Classe prédite : 5\n",
      "-----\n"
     ]
    }
   ],
   "source": [
    "# Charger votre jeu de données (assurez-vous qu'il possède les colonnes 'prompt' et 'avg_rating')\n",
    "data = pd.read_parquet(\"hf://datasets/data-is-better-together/10k_prompts_ranked/data/train-00000-of-00001.parquet\")\n",
    "\n",
    "# Préparer les features (embeddings du prompt) et la cible (la note entre 0 et 5)\n",
    "model_embed = SentenceTransformer(\"paraphrase-MiniLM-L6-v2\")\n",
    "\n",
    "X = np.array([model_embed.encode(prompt) for prompt in data['prompt']])\n",
    "y = np.round(data['avg_rating']).astype(int)\n",
    "\n",
    "# Diviser les données en un jeu d'entraînement et un jeu de test\n",
    "X_train, X_test, y_train, y_test = train_test_split(X, y, test_size=0.2, random_state=42)\n",
    "\n",
    "# Entraîner un modèle naïf bayésien\n",
    "model = GaussianNB()  # Naive Bayes gaussien pour les features continues\n",
    "model.fit(X_train, y_train)\n",
    "\n",
    "# Prédire les notes du jeu de test\n",
    "y_pred = model.predict(X_test)\n",
    "\n",
    "# Évaluer le modèle\n",
    "print(\"Accuracy:\", accuracy_score(y_test, y_pred))\n",
    "print(\"Classification report:\")\n",
    "print(classification_report(y_test, y_pred))\n",
    "print(\"Mean Squared Error:\", mean_squared_error(y_test, y_pred))"
   ]
  },
  {
   "cell_type": "code",
   "execution_count": null,
   "metadata": {},
   "outputs": [],
   "source": []
  }
 ],
 "metadata": {
  "kernelspec": {
   "display_name": "Python 3",
   "language": "python",
   "name": "python3"
  },
  "language_info": {
   "codemirror_mode": {
    "name": "ipython",
    "version": 3
   },
   "file_extension": ".py",
   "mimetype": "text/x-python",
   "name": "python",
   "nbconvert_exporter": "python",
   "pygments_lexer": "ipython3",
   "version": "3.10.12"
  }
 },
 "nbformat": 4,
 "nbformat_minor": 2
}
